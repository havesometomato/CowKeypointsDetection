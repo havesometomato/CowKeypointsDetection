{
 "cells": [
  {
   "cell_type": "code",
   "execution_count": 1,
   "metadata": {},
   "outputs": [],
   "source": [
    "import json"
   ]
  },
  {
   "cell_type": "code",
   "execution_count": 2,
   "metadata": {},
   "outputs": [],
   "source": [
    "## Edit file path\n",
    "with open('/Users/pan/Desktop/combine/Walking_Final.json', 'r') as f1:\n",
    "    data1 = json.load(f1)"
   ]
  },
  {
   "cell_type": "code",
   "execution_count": 3,
   "metadata": {},
   "outputs": [],
   "source": [
    "required_image_keys = ['id', 'file_name', 'width', 'height']\n",
    "required_annotations_keys = [\n",
    "    'keypoints', 'image_id', \n",
    "    'id', 'num_keypoints', \n",
    "    'bbox', 'iscrowd', \n",
    "    'area', 'category_id' \n",
    "    ]"
   ]
  },
  {
   "cell_type": "code",
   "execution_count": 4,
   "metadata": {},
   "outputs": [],
   "source": [
    "def check_images(required_image_keys,file):\n",
    "    for image in file['images']:\n",
    "        if not all(key in image for key in required_image_keys):\n",
    "            print(f\"Error: Image dictionary {image} in {file} is missing one or more required keys.\")\n",
    "            print(f\"File name: {image.get('file_name')}\")\n",
    "            continue\n",
    "\n",
    "def check_anns(required_annotations_keys,file):\n",
    "    for image in file['annotations']:\n",
    "        if not all(key in image for key in required_annotations_keys):\n",
    "            print(f\"Error: Image dictionary {image} is missing one or more required keys.\")\n",
    "            continue\n"
   ]
  },
  {
   "cell_type": "code",
   "execution_count": 5,
   "metadata": {},
   "outputs": [],
   "source": [
    "check_images(required_image_keys,data1)\n",
    "check_anns(required_annotations_keys,data1)"
   ]
  }
 ],
 "metadata": {
  "kernelspec": {
   "display_name": "general",
   "language": "python",
   "name": "python3"
  },
  "language_info": {
   "codemirror_mode": {
    "name": "ipython",
    "version": 3
   },
   "file_extension": ".py",
   "mimetype": "text/x-python",
   "name": "python",
   "nbconvert_exporter": "python",
   "pygments_lexer": "ipython3",
   "version": "3.9.16"
  },
  "orig_nbformat": 4,
  "vscode": {
   "interpreter": {
    "hash": "d7c91b41b0bf5567f2bd18b2bc09d497f056b7c4cd6c625b5e6e230b91fa97ac"
   }
  }
 },
 "nbformat": 4,
 "nbformat_minor": 2
}
