{
 "cells": [
  {
   "cell_type": "code",
   "execution_count": 6,
   "metadata": {},
   "outputs": [],
   "source": [
    "import json"
   ]
  },
  {
   "cell_type": "code",
   "execution_count": 7,
   "metadata": {},
   "outputs": [],
   "source": [
    "## Edit file path\n",
    "with open('/Users/pan/Desktop/combine/Standing (Facing)-5.json', 'r') as f:\n",
    "    data = json.load(f)\n",
    "\n",
    "new_id_im = 21\n",
    "new_id_ann = 26"
   ]
  },
  {
   "cell_type": "code",
   "execution_count": 8,
   "metadata": {},
   "outputs": [],
   "source": [
    "# Create new dictionaries for the updated images and annotations\n",
    "new_images = {}\n",
    "new_annotations = {}\n",
    "\n",
    "# Create a mapping from old IDs to new IDs\n",
    "id_mapping = {}\n",
    "for image in data['images']:\n",
    "    id_mapping[image['id']] = new_id_im\n",
    "    new_images[new_id_im] = {\n",
    "        'id': new_id_im,\n",
    "        'file_name': image['file_name'],\n",
    "        'height': image['height'],\n",
    "        'width': image['width']\n",
    "    }\n",
    "    new_id_im += 1\n",
    "\n",
    "for annotation in data['annotations']:\n",
    "    annotation['image_id'] = id_mapping[annotation['image_id']]\n",
    "    annotation['id'] = new_id_ann\n",
    "    new_annotations[new_id_ann] = {\n",
    "        'keypoints': annotation['keypoints'],\n",
    "        'image_id': annotation['image_id'],\n",
    "        'id': new_id_ann,\n",
    "        'num_keypoints': annotation['num_keypoints'],\n",
    "        'bbox': annotation['bbox'],\n",
    "        'iscrowd': annotation['iscrowd'],\n",
    "        'area': annotation['area'],\n",
    "        'category_id': 1\n",
    "    }\n",
    "    new_id_ann += 1"
   ]
  },
  {
   "cell_type": "code",
   "execution_count": 9,
   "metadata": {},
   "outputs": [],
   "source": [
    "# Replace the old images and annotations with the new ones\n",
    "data['images'] = list(new_images.values())\n",
    "data['annotations'] = list(new_annotations.values())"
   ]
  },
  {
   "cell_type": "code",
   "execution_count": 10,
   "metadata": {},
   "outputs": [
    {
     "name": "stdout",
     "output_type": "stream",
     "text": [
      "29\n",
      "39\n"
     ]
    }
   ],
   "source": [
    "# Save the updated JSON file\n",
    "with open('new_Face.json', 'w') as f:\n",
    "    json.dump(data, f)\n",
    "\n",
    "print(new_id_im)\n",
    "print(new_id_ann)"
   ]
  }
 ],
 "metadata": {
  "kernelspec": {
   "display_name": "general",
   "language": "python",
   "name": "python3"
  },
  "language_info": {
   "codemirror_mode": {
    "name": "ipython",
    "version": 3
   },
   "file_extension": ".py",
   "mimetype": "text/x-python",
   "name": "python",
   "nbconvert_exporter": "python",
   "pygments_lexer": "ipython3",
   "version": "3.9.16"
  },
  "orig_nbformat": 4,
  "vscode": {
   "interpreter": {
    "hash": "d7c91b41b0bf5567f2bd18b2bc09d497f056b7c4cd6c625b5e6e230b91fa97ac"
   }
  }
 },
 "nbformat": 4,
 "nbformat_minor": 2
}
